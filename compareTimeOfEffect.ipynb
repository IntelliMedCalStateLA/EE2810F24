{
 "cells": [
  {
   "cell_type": "markdown",
   "id": "5b69e715",
   "metadata": {},
   "source": [
    "# Comparing time of effect of different vaccines\n",
    "### Created by Deborah Won"
   ]
  },
  {
   "cell_type": "markdown",
   "id": "d983ef1c",
   "metadata": {},
   "source": [
    "A pharmaceutical company named Medicon produced a Covid-19 vaccine, and our job is to describe its effectiveness.  Medicon has collected data on one batch of the dose - namely, the \"time of effect\", which is the duration, measured in hours, from the time at which the vaccine is administered until the body has absorbed it and until antibodies are produced. Essentially, time of effect is defined as the number of hours it takes for the vaccine to manifest a preventative effect against Covid-19.\n",
    "\n",
    "We will compare this Medicon vaccine (vaccine A) with two other vaccines (vaccine B and vaccine C)"
   ]
  },
  {
   "cell_type": "markdown",
   "id": "e897b365",
   "metadata": {},
   "source": [
    "# Read in time of effect for all 3 drugs"
   ]
  },
  {
   "cell_type": "code",
   "execution_count": null,
   "id": "629581c1",
   "metadata": {},
   "outputs": [],
   "source": [
    "# Pandas organizes data into a \"dataframe\" and provides commands to view and analyze the data\n",
    "\n",
    "import pandas as pd  "
   ]
  },
  {
   "cell_type": "code",
   "execution_count": null,
   "id": "38d4e3fb",
   "metadata": {},
   "outputs": [],
   "source": [
    "# .csv = comma separated value, a file format commonly used for tabulated data\n",
    "# pd. means within the library pandas\n",
    "# use function called read_csv\n",
    "# open and extract data from the csv file 'doses.csv'\n",
    "\n",
    "tEffectPD = _________________________________________________"
   ]
  },
  {
   "cell_type": "code",
   "execution_count": null,
   "id": "30d1c934",
   "metadata": {},
   "outputs": [],
   "source": [
    "# QUESTION: How many samples are in medconPD?\n",
    "\n",
    "\n",
    "\n"
   ]
  },
  {
   "cell_type": "code",
   "execution_count": null,
   "id": "388b5e74",
   "metadata": {},
   "outputs": [],
   "source": [
    "# QUESTION: What are the fields in the Medcon database (now in the medconPD dataframe)?\n",
    "\n"
   ]
  },
  {
   "cell_type": "code",
   "execution_count": null,
   "id": "97374272",
   "metadata": {},
   "outputs": [],
   "source": [
    "# View the first 3 rows of the data frame\n",
    "print(tEffectPD_______________)\n",
    "\n",
    "# View the last 2 rows of the data frame\n",
    "print(tEffectPD_______________)"
   ]
  },
  {
   "cell_type": "markdown",
   "id": "13d2f265",
   "metadata": {},
   "source": [
    "# Basic Statistics on the Data"
   ]
  },
  {
   "cell_type": "code",
   "execution_count": null,
   "id": "50800512",
   "metadata": {},
   "outputs": [],
   "source": [
    "# QUESTION: What is the average time of effect for each vaccine?  Give your answer with units\n",
    "mu = tEffectPD.mean()\n",
    "print(mu)\n"
   ]
  },
  {
   "cell_type": "code",
   "execution_count": null,
   "id": "408054b1",
   "metadata": {},
   "outputs": [],
   "source": [
    "#QUESTION: What is the standard deviation for each vaccine?  Give your answer with units\n",
    "sigma = tEffectPD.std()\n",
    "print(sigma)\n",
    "\n"
   ]
  },
  {
   "cell_type": "code",
   "execution_count": null,
   "id": "fa95144d",
   "metadata": {},
   "outputs": [],
   "source": [
    "# QUESTION: Which would you say is the most effective vaccine based on your analysis of time of effect?  \n",
    "\n"
   ]
  },
  {
   "cell_type": "code",
   "execution_count": null,
   "id": "f5848434",
   "metadata": {},
   "outputs": [],
   "source": [
    "# Use a for loop to print a statement for each vaccine providing its average time +/- standard deviation.\n",
    "for i in range(3): \n",
    "    print('The time for the Covid-19 vaccine to take effect was on average ', round(mu.values[i],2), ' +/-', round(sigma.values[i], 2))"
   ]
  },
  {
   "cell_type": "markdown",
   "id": "a4c357fa",
   "metadata": {},
   "source": [
    "# Visualizing the data"
   ]
  },
  {
   "cell_type": "code",
   "execution_count": null,
   "id": "643c785f",
   "metadata": {},
   "outputs": [],
   "source": [
    "import matplotlib.pyplot as plt"
   ]
  },
  {
   "cell_type": "code",
   "execution_count": null,
   "id": "6d22b60c",
   "metadata": {
    "scrolled": true
   },
   "outputs": [],
   "source": [
    "# Plot a histogram of all 3 vaccines' time of effect on the same plot, using 20 bins\n",
    "# QUESTION: What is an appropriate label for the x-axis?  You may just fill in the blank to answer this question\n",
    "# QUESTION: What is an appropriate lable for the y-axis?  You may just fill in the blank to answer this question\n",
    "# QUESTION: What would be an appropriate legend to add?   You may just fill in the blank to answer this question\n",
    "\n",
    "plt.hist(tEffectPD, _____)\n",
    "plt.xlabel(_________________________)\n",
    "plt.ylabel(_________________________)\n",
    "plt.legend(_________________________)"
   ]
  },
  {
   "cell_type": "code",
   "execution_count": null,
   "id": "11b4ff95",
   "metadata": {},
   "outputs": [],
   "source": [
    "import seaborn as sns"
   ]
  },
  {
   "cell_type": "code",
   "execution_count": null,
   "id": "62c5235e",
   "metadata": {},
   "outputs": [],
   "source": [
    "# Estimate the probability density using kernel density estimation.\n",
    "\n",
    "sns______________(tEffectPD, _______________________)"
   ]
  },
  {
   "cell_type": "code",
   "execution_count": null,
   "id": "8c369d88",
   "metadata": {},
   "outputs": [],
   "source": [
    "# Create a box and whisker plot that compares all 3 vaccines\n",
    "\n",
    "hfig, hax = plt.subplots(figsize=(5,3))\n",
    "hax.____________________________________  # Create the box and whisker plot\n",
    "hax.set_xticklabels(________________________) # Create appropriate x labels\n",
    "plt.ylabel(______________________________) # Create appropriate y lables"
   ]
  },
  {
   "cell_type": "code",
   "execution_count": null,
   "id": "ef8a9722",
   "metadata": {},
   "outputs": [],
   "source": [
    "# QUESTION: Which vaccine would you choose to use based on this visualization? How does this boxplot help you assess which vaccine might be the best choice? "
   ]
  }
 ],
 "metadata": {
  "kernelspec": {
   "display_name": "Python 3 (ipykernel)",
   "language": "python",
   "name": "python3"
  },
  "language_info": {
   "codemirror_mode": {
    "name": "ipython",
    "version": 3
   },
   "file_extension": ".py",
   "mimetype": "text/x-python",
   "name": "python",
   "nbconvert_exporter": "python",
   "pygments_lexer": "ipython3",
   "version": "3.10.9"
  }
 },
 "nbformat": 4,
 "nbformat_minor": 5
}
