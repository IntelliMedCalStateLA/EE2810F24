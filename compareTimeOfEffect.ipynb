{
 "cells": [
  {
   "cell_type": "markdown",
   "id": "5b69e715",
   "metadata": {},
   "source": [
    "# Comparing time of effect of different vaccines\n",
    "### Created by Deborah Won"
   ]
  },
  {
   "cell_type": "markdown",
   "id": "d983ef1c",
   "metadata": {},
   "source": [
    "A pharmaceutical company named Medicon produced a Covid-19 vaccine, and our job is to describe its effectiveness.  Medicon has collected data on one batch of the dose - namely, the \"time of effect\", which is the duration, measured in hours, from the time at which the vaccine is administered until the body has absorbed it and until antibodies are produced. Essentially, time of effect is defined as the number of hours it takes for the vaccine to manifest a preventative effect against Covid-19.\n",
    "\n",
    "We will compare this Medicon vaccine (vaccine A) with two other vaccines (vaccine B and vaccine C)"
   ]
  },
  {
   "cell_type": "markdown",
   "id": "e897b365",
   "metadata": {},
   "source": [
    "# Read in time of effect for all 3 drugs"
   ]
  },
  {
   "cell_type": "code",
   "execution_count": 2,
   "id": "629581c1",
   "metadata": {},
   "outputs": [],
   "source": [
    "# Pandas organizes data into a \"dataframe\" and provides commands to view and analyze the data\n",
    "\n",
    "import pandas as pd  "
   ]
  },
  {
   "cell_type": "code",
   "execution_count": 3,
   "id": "38d4e3fb",
   "metadata": {},
   "outputs": [],
   "source": [
    "# .csv = comma separated value, a file format commonly used for tabulated data\n",
    "# pd. means within the library pandas\n",
    "# use function called read_csv\n",
    "# open and extract data from the csv file 'doses.csv'\n",
    "\n",
    "tEffectPD = pd.read_csv('timeOfEffect3Drugs.csv')"
   ]
  },
  {
   "cell_type": "code",
   "execution_count": 4,
   "id": "edcdd752",
   "metadata": {},
   "outputs": [
    {
     "data": {
      "text/plain": [
       "(50, 3)"
      ]
     },
     "execution_count": 4,
     "metadata": {},
     "output_type": "execute_result"
    }
   ],
   "source": [
    "# QUESTION: How many samples are in medconPD?\n",
    "\n",
    "tEffectPD.shape\n",
    "\n",
    "## 50 samples.  Each row corresponds to a sample. "
   ]
  },
  {
   "cell_type": "code",
   "execution_count": 5,
   "id": "388b5e74",
   "metadata": {},
   "outputs": [
    {
     "name": "stdout",
     "output_type": "stream",
     "text": [
      "Index(['vacA', 'vacB', 'vacC'], dtype='object')\n"
     ]
    }
   ],
   "source": [
    "# QUESTION: What are the fields in the Medcon database (now in the medconPD dataframe)?\n",
    "\n",
    "print(tEffectPD.columns)\n",
    "\n",
    "## vacA, vacB, and vacC"
   ]
  },
  {
   "cell_type": "code",
   "execution_count": 7,
   "id": "cd252d03",
   "metadata": {},
   "outputs": [
    {
     "name": "stdout",
     "output_type": "stream",
     "text": [
      "   vacA  vacB  vacC\n",
      "0   5.8  18.2  16.2\n",
      "1  17.3  26.0  14.8\n",
      "2  16.7   1.4  15.6\n",
      "    vacA  vacB  vacC\n",
      "48  12.1  21.6  13.9\n",
      "49  13.2  21.7  16.3\n"
     ]
    }
   ],
   "source": [
    "# View the first 3 rows of the data frame\n",
    "print(tEffectPD.head(3))\n",
    "\n",
    "# View the last 2 rows of the data frame\n",
    "print(tEffectPD.tail(2))"
   ]
  },
  {
   "cell_type": "markdown",
   "id": "13d2f265",
   "metadata": {},
   "source": [
    "# Basic Statistics on the Data"
   ]
  },
  {
   "cell_type": "code",
   "execution_count": 8,
   "id": "50800512",
   "metadata": {},
   "outputs": [
    {
     "name": "stdout",
     "output_type": "stream",
     "text": [
      "vacA    13.442\n",
      "vacB    16.764\n",
      "vacC    15.376\n",
      "dtype: float64\n"
     ]
    }
   ],
   "source": [
    "# QUESTION: What is the average time of effect for each vaccine?  Give your answer with units\n",
    "mu = tEffectPD.mean()\n",
    "print(mu)\n",
    "\n",
    "# ANSWER: \n",
    "# vacA    13.442 hrs\n",
    "# vacB    16.764 hrs\n",
    "# vacC    15.376 hrs"
   ]
  },
  {
   "cell_type": "code",
   "execution_count": 9,
   "id": "408054b1",
   "metadata": {},
   "outputs": [
    {
     "name": "stdout",
     "output_type": "stream",
     "text": [
      "vacA    4.745528\n",
      "vacB    7.445661\n",
      "vacC    0.876114\n",
      "dtype: float64\n",
      "<class 'pandas.core.series.Series'>\n"
     ]
    }
   ],
   "source": [
    "#QUESTION: What is the standard deviation for each vaccine?  Give your answer with units\n",
    "sigma = tEffectPD.std()\n",
    "print(sigma)\n",
    "print(type(sigma))\n",
    "\n",
    "#ANSWER:\n",
    "# vacA    4.745528 hrs\n",
    "# vacB    7.445661 hrs\n",
    "# vacC    0.876114 hrs"
   ]
  },
  {
   "cell_type": "code",
   "execution_count": 1,
   "id": "6b85dd60",
   "metadata": {},
   "outputs": [],
   "source": [
    "# QUESTION: Which would you say is the most effective vaccine based on your analysis of time of effect?  \n",
    "\n",
    "# ANSWER: Thus far, while vaccine A has the lowest average time of effect, I see that vaccine C as a much lower standard deviation"
   ]
  },
  {
   "cell_type": "code",
   "execution_count": 25,
   "id": "f5848434",
   "metadata": {},
   "outputs": [
    {
     "name": "stdout",
     "output_type": "stream",
     "text": [
      "The time for the Covid-19 vaccine to take effect was on average  13.44  +/- 4.75\n",
      "The time for the Covid-19 vaccine to take effect was on average  16.76  +/- 7.45\n",
      "The time for the Covid-19 vaccine to take effect was on average  15.38  +/- 0.88\n"
     ]
    }
   ],
   "source": [
    "# Use a for loop to print a statement for each vaccine providing its average time +/- standard deviation.\n",
    "for i in range(3): \n",
    "    print('The time for the Covid-19 vaccine to take effect was on average ', round(mu.values[i],2), ' +/-', round(sigma.values[i], 2))"
   ]
  },
  {
   "cell_type": "markdown",
   "id": "a4c357fa",
   "metadata": {},
   "source": [
    "# Visualizing the data"
   ]
  },
  {
   "cell_type": "code",
   "execution_count": 10,
   "id": "643c785f",
   "metadata": {},
   "outputs": [],
   "source": [
    "import matplotlib.pyplot as plt"
   ]
  },
  {
   "cell_type": "code",
   "execution_count": 11,
   "id": "6d22b60c",
   "metadata": {
    "scrolled": true
   },
   "outputs": [
    {
     "data": {
      "text/plain": [
       "<matplotlib.legend.Legend at 0x1faba0eaf50>"
      ]
     },
     "execution_count": 11,
     "metadata": {},
     "output_type": "execute_result"
    },
    {
     "data": {
      "image/png": "[encoded data removed]",
      "text/plain": [
       "<Figure size 640x480 with 1 Axes>"
      ]
     },
     "metadata": {},
     "output_type": "display_data"
    }
   ],
   "source": [
    "# Plot a histogram of all 3 vaccines' time of effect on the same plot, using 20 bins\n",
    "# QUESTION: What is an appropriate label for the x-axis?  You may just fill in the blank to answer this question\n",
    "# QUESTION: What is an appropriate lable for the y-axis?  You may just fill in the blank to answer this question\n",
    "# QUESTION: What would be an appropriate legend to add?   You may just fill in the blank to answer this question\n",
    "\n",
    "plt.hist(tEffectPD, 20)\n",
    "plt.legend(['A', 'B', 'C'])\n",
    "plt.xlabel('time of effect (hrs)')\n",
    "plt.ylabel('counts (frequency)')"
   ]
  },
  {
   "cell_type": "code",
   "execution_count": 3,
   "id": "11b4ff95",
   "metadata": {},
   "outputs": [],
   "source": [
    "import seaborn as sns"
   ]
  },
  {
   "cell_type": "code",
   "execution_count": 29,
   "id": "62c5235e",
   "metadata": {},
   "outputs": [
    {
     "data": {
      "text/plain": [
       "<seaborn.axisgrid.FacetGrid at 0x1c0dcb87bb0>"
      ]
     },
     "execution_count": 29,
     "metadata": {},
     "output_type": "execute_result"
    },
    {
     "data": {
      "image/png": "[encoded data removed]",
      "text/plain": [
       "<Figure size 584.25x500 with 1 Axes>"
      ]
     },
     "metadata": {},
     "output_type": "display_data"
    }
   ],
   "source": [
    "# Estimate the probability density using kernel density estimation.\n",
    "\n",
    "sns.displot(tEffectPD, kind='kde')"
   ]
  },
  {
   "cell_type": "code",
   "execution_count": null,
   "id": "3222e478",
   "metadata": {},
   "outputs": [],
   "source": [
    "plt.boxplot(t)"
   ]
  },
  {
   "cell_type": "code",
   "execution_count": 25,
   "id": "5bbdde2e",
   "metadata": {},
   "outputs": [],
   "source": [
    "t3 = tEffectPD.loc[:, :]"
   ]
  },
  {
   "cell_type": "code",
   "execution_count": 18,
   "id": "18d413de",
   "metadata": {},
   "outputs": [
    {
     "data": {
      "text/plain": [
       "pandas.core.frame.DataFrame"
      ]
     },
     "execution_count": 18,
     "metadata": {},
     "output_type": "execute_result"
    }
   ],
   "source": [
    "type(t3)"
   ]
  },
  {
   "cell_type": "code",
   "execution_count": 8,
   "id": "abcd4ca5",
   "metadata": {},
   "outputs": [
    {
     "data": {
      "text/plain": [
       "Index(['vacA', 'vacB', 'vacC'], dtype='object')"
      ]
     },
     "execution_count": 8,
     "metadata": {},
     "output_type": "execute_result"
    }
   ],
   "source": [
    "tEffectPD.columns"
   ]
  },
  {
   "cell_type": "code",
   "execution_count": 12,
   "id": "8c369d88",
   "metadata": {},
   "outputs": [
    {
     "data": {
      "text/plain": [
       "Text(0, 0.5, 'time of effect (min)')"
      ]
     },
     "execution_count": 12,
     "metadata": {},
     "output_type": "execute_result"
    },
    {
     "data": {
      "image/png": "[encoded data removed]",
      "text/plain": [
       "<Figure size 500x300 with 1 Axes>"
      ]
     },
     "metadata": {},
     "output_type": "display_data"
    }
   ],
   "source": [
    "# Create a box and whisker plot that compares all 3 vaccines \n",
    "hfig, hax = plt.subplots(figsize=(5,3))\n",
    "hax.boxplot(tEffectPD)\n",
    "hax.set_xticklabels(tEffectPD.columns)\n",
    "plt.ylabel('time of effect (min)')"
   ]
  },
  {
   "cell_type": "code",
   "execution_count": null,
   "id": "ef8a9722",
   "metadata": {},
   "outputs": [],
   "source": [
    "# QUESTION: Which vaccine would you choose to use based on this visualization? How does this boxplot help you assess which vaccine might be the best choice? "
   ]
  }
 ],
 "metadata": {
  "kernelspec": {
   "display_name": "Python 3 (ipykernel)",
   "language": "python",
   "name": "python3"
  },
  "language_info": {
   "codemirror_mode": {
    "name": "ipython",
    "version": 3
   },
   "file_extension": ".py",
   "mimetype": "text/x-python",
   "name": "python",
   "nbconvert_exporter": "python",
   "pygments_lexer": "ipython3",
   "version": "3.10.9"
  }
 },
 "nbformat": 4,
 "nbformat_minor": 5
}
